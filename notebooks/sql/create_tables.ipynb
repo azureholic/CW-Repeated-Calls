{
 "cells": [
  {
   "cell_type": "code",
   "execution_count": null,
   "id": "a619fad3",
   "metadata": {},
   "outputs": [],
   "source": [
    "from repeated_calls.orm import engine, tables"
   ]
  },
  {
   "cell_type": "code",
   "execution_count": null,
   "id": "396683e8",
   "metadata": {},
   "outputs": [],
   "source": [
    "print(f\"Connecting to {engine.url}...\")"
   ]
  },
  {
   "cell_type": "code",
   "execution_count": null,
   "id": "23891b90",
   "metadata": {},
   "outputs": [],
   "source": [
    "metadata = tables.Base.metadata"
   ]
  },
  {
   "cell_type": "code",
   "execution_count": null,
   "id": "1e160dd3",
   "metadata": {},
   "outputs": [],
   "source": [
    "metadata.create_all(engine)"
   ]
  },
  {
   "cell_type": "code",
   "execution_count": null,
   "id": "c70797a6",
   "metadata": {},
   "outputs": [],
   "source": []
  }
 ],
 "metadata": {
  "kernelspec": {
   "display_name": "repeated-calls-XEPXdg0e-py3.12",
   "language": "python",
   "name": "python3"
  },
  "language_info": {
   "codemirror_mode": {
    "name": "ipython",
    "version": 3
   },
   "file_extension": ".py",
   "mimetype": "text/x-python",
   "name": "python",
   "nbconvert_exporter": "python",
   "pygments_lexer": "ipython3",
   "version": "3.12.5"
  }
 },
 "nbformat": 4,
 "nbformat_minor": 5
}
